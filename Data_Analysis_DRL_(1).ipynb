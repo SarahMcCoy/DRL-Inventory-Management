{
  "cells": [
    {
      "cell_type": "markdown",
      "metadata": {
        "id": "view-in-github",
        "colab_type": "text"
      },
      "source": [
        "<a href=\"https://colab.research.google.com/github/SarahMcCoy/DRL-Inventory-Management/blob/main/Data_Analysis_DRL_(1).ipynb\" target=\"_parent\"><img src=\"https://colab.research.google.com/assets/colab-badge.svg\" alt=\"Open In Colab\"/></a>"
      ]
    },
    {
      "cell_type": "code",
      "execution_count": null,
      "id": "63b3c50e-79b5-4cd2-89ba-3a48fcd7bcad",
      "metadata": {
        "id": "63b3c50e-79b5-4cd2-89ba-3a48fcd7bcad"
      },
      "outputs": [],
      "source": [
        "import numpy as np\n",
        "import random\n",
        "import gym\n",
        "from gym import spaces"
      ]
    },
    {
      "cell_type": "code",
      "execution_count": null,
      "id": "04f5a9bc-5233-4379-ac1a-2a81f9d45712",
      "metadata": {
        "id": "04f5a9bc-5233-4379-ac1a-2a81f9d45712",
        "outputId": "fb4c7232-0058-41bd-b050-e2dfafcf2499"
      },
      "outputs": [
        {
          "name": "stdout",
          "output_type": "stream",
          "text": [
            "Requirement already satisfied: numpy in /Library/Frameworks/Python.framework/Versions/3.12/lib/python3.12/site-packages (1.26.4)\n",
            "\n",
            "\u001b[1m[\u001b[0m\u001b[34;49mnotice\u001b[0m\u001b[1;39;49m]\u001b[0m\u001b[39;49m A new release of pip is available: \u001b[0m\u001b[31;49m24.0\u001b[0m\u001b[39;49m -> \u001b[0m\u001b[32;49m24.2\u001b[0m\n",
            "\u001b[1m[\u001b[0m\u001b[34;49mnotice\u001b[0m\u001b[1;39;49m]\u001b[0m\u001b[39;49m To update, run: \u001b[0m\u001b[32;49mpip install --upgrade pip\u001b[0m\n",
            "Note: you may need to restart the kernel to use updated packages.\n"
          ]
        }
      ],
      "source": [
        "pip install numpy\n"
      ]
    },
    {
      "cell_type": "code",
      "execution_count": null,
      "id": "47081450-c749-457f-b566-b3f8947e3bfe",
      "metadata": {
        "id": "47081450-c749-457f-b566-b3f8947e3bfe",
        "outputId": "28c4599d-48bf-4d01-c5a1-a331033ca4b3"
      },
      "outputs": [
        {
          "name": "stderr",
          "output_type": "stream",
          "text": [
            "/var/folders/ml/mzs4r1y147sct545s2zm0_600000gn/T/ipykernel_6669/1638885632.py:2: DeprecationWarning: \n",
            "Pyarrow will become a required dependency of pandas in the next major release of pandas (pandas 3.0),\n",
            "(to allow more performant data types, such as the Arrow string type, and better interoperability with other libraries)\n",
            "but was not found to be installed on your system.\n",
            "If this would cause problems for you,\n",
            "please provide us feedback at https://github.com/pandas-dev/pandas/issues/54466\n",
            "        \n",
            "  import pandas as pd\n"
          ]
        },
        {
          "name": "stdout",
          "output_type": "stream",
          "text": [
            "<class 'pandas.core.frame.DataFrame'>\n",
            "RangeIndex: 180519 entries, 0 to 180518\n",
            "Data columns (total 53 columns):\n",
            " #   Column                         Non-Null Count   Dtype  \n",
            "---  ------                         --------------   -----  \n",
            " 0   Type                           180519 non-null  object \n",
            " 1   Days for shipping (real)       180519 non-null  int64  \n",
            " 2   Days for shipment (scheduled)  180519 non-null  int64  \n",
            " 3   Benefit per order              180519 non-null  float64\n",
            " 4   Sales per customer             180519 non-null  float64\n",
            " 5   Delivery Status                180519 non-null  object \n",
            " 6   Late_delivery_risk             180519 non-null  int64  \n",
            " 7   Category Id                    180519 non-null  int64  \n",
            " 8   Category Name                  180519 non-null  object \n",
            " 9   Customer City                  180519 non-null  object \n",
            " 10  Customer Country               180519 non-null  object \n",
            " 11  Customer Email                 180519 non-null  object \n",
            " 12  Customer Fname                 180519 non-null  object \n",
            " 13  Customer Id                    180519 non-null  int64  \n",
            " 14  Customer Lname                 180511 non-null  object \n",
            " 15  Customer Password              180519 non-null  object \n",
            " 16  Customer Segment               180519 non-null  object \n",
            " 17  Customer State                 180519 non-null  object \n",
            " 18  Customer Street                180519 non-null  object \n",
            " 19  Customer Zipcode               180516 non-null  float64\n",
            " 20  Department Id                  180519 non-null  int64  \n",
            " 21  Department Name                180519 non-null  object \n",
            " 22  Latitude                       180519 non-null  float64\n",
            " 23  Longitude                      180519 non-null  float64\n",
            " 24  Market                         180519 non-null  object \n",
            " 25  Order City                     180519 non-null  object \n",
            " 26  Order Country                  180519 non-null  object \n",
            " 27  Order Customer Id              180519 non-null  int64  \n",
            " 28  order date (DateOrders)        180519 non-null  object \n",
            " 29  Order Id                       180519 non-null  int64  \n",
            " 30  Order Item Cardprod Id         180519 non-null  int64  \n",
            " 31  Order Item Discount            180519 non-null  float64\n",
            " 32  Order Item Discount Rate       180519 non-null  float64\n",
            " 33  Order Item Id                  180519 non-null  int64  \n",
            " 34  Order Item Product Price       180519 non-null  float64\n",
            " 35  Order Item Profit Ratio        180519 non-null  float64\n",
            " 36  Order Item Quantity            180519 non-null  int64  \n",
            " 37  Sales                          180519 non-null  float64\n",
            " 38  Order Item Total               180519 non-null  float64\n",
            " 39  Order Profit Per Order         180519 non-null  float64\n",
            " 40  Order Region                   180519 non-null  object \n",
            " 41  Order State                    180519 non-null  object \n",
            " 42  Order Status                   180519 non-null  object \n",
            " 43  Order Zipcode                  24840 non-null   float64\n",
            " 44  Product Card Id                180519 non-null  int64  \n",
            " 45  Product Category Id            180519 non-null  int64  \n",
            " 46  Product Description            0 non-null       float64\n",
            " 47  Product Image                  180519 non-null  object \n",
            " 48  Product Name                   180519 non-null  object \n",
            " 49  Product Price                  180519 non-null  float64\n",
            " 50  Product Status                 180519 non-null  int64  \n",
            " 51  shipping date (DateOrders)     180519 non-null  object \n",
            " 52  Shipping Mode                  180519 non-null  object \n",
            "dtypes: float64(15), int64(14), object(24)\n",
            "memory usage: 73.0+ MB\n"
          ]
        },
        {
          "data": {
            "text/html": [
              "<div>\n",
              "<style scoped>\n",
              "    .dataframe tbody tr th:only-of-type {\n",
              "        vertical-align: middle;\n",
              "    }\n",
              "\n",
              "    .dataframe tbody tr th {\n",
              "        vertical-align: top;\n",
              "    }\n",
              "\n",
              "    .dataframe thead th {\n",
              "        text-align: right;\n",
              "    }\n",
              "</style>\n",
              "<table border=\"1\" class=\"dataframe\">\n",
              "  <thead>\n",
              "    <tr style=\"text-align: right;\">\n",
              "      <th></th>\n",
              "      <th>Type</th>\n",
              "      <th>Days for shipping (real)</th>\n",
              "      <th>Days for shipment (scheduled)</th>\n",
              "      <th>Benefit per order</th>\n",
              "      <th>Sales per customer</th>\n",
              "      <th>Delivery Status</th>\n",
              "      <th>Late_delivery_risk</th>\n",
              "      <th>Category Id</th>\n",
              "      <th>Category Name</th>\n",
              "      <th>Customer City</th>\n",
              "      <th>...</th>\n",
              "      <th>Order Zipcode</th>\n",
              "      <th>Product Card Id</th>\n",
              "      <th>Product Category Id</th>\n",
              "      <th>Product Description</th>\n",
              "      <th>Product Image</th>\n",
              "      <th>Product Name</th>\n",
              "      <th>Product Price</th>\n",
              "      <th>Product Status</th>\n",
              "      <th>shipping date (DateOrders)</th>\n",
              "      <th>Shipping Mode</th>\n",
              "    </tr>\n",
              "  </thead>\n",
              "  <tbody>\n",
              "    <tr>\n",
              "      <th>0</th>\n",
              "      <td>DEBIT</td>\n",
              "      <td>3</td>\n",
              "      <td>4</td>\n",
              "      <td>91.250000</td>\n",
              "      <td>314.640015</td>\n",
              "      <td>Advance shipping</td>\n",
              "      <td>0</td>\n",
              "      <td>73</td>\n",
              "      <td>Sporting Goods</td>\n",
              "      <td>Caguas</td>\n",
              "      <td>...</td>\n",
              "      <td>NaN</td>\n",
              "      <td>1360</td>\n",
              "      <td>73</td>\n",
              "      <td>NaN</td>\n",
              "      <td>http://images.acmesports.sports/Smart+watch</td>\n",
              "      <td>Smart watch</td>\n",
              "      <td>327.75</td>\n",
              "      <td>0</td>\n",
              "      <td>2/3/2018 22:56</td>\n",
              "      <td>Standard Class</td>\n",
              "    </tr>\n",
              "    <tr>\n",
              "      <th>1</th>\n",
              "      <td>TRANSFER</td>\n",
              "      <td>5</td>\n",
              "      <td>4</td>\n",
              "      <td>-249.089996</td>\n",
              "      <td>311.359985</td>\n",
              "      <td>Late delivery</td>\n",
              "      <td>1</td>\n",
              "      <td>73</td>\n",
              "      <td>Sporting Goods</td>\n",
              "      <td>Caguas</td>\n",
              "      <td>...</td>\n",
              "      <td>NaN</td>\n",
              "      <td>1360</td>\n",
              "      <td>73</td>\n",
              "      <td>NaN</td>\n",
              "      <td>http://images.acmesports.sports/Smart+watch</td>\n",
              "      <td>Smart watch</td>\n",
              "      <td>327.75</td>\n",
              "      <td>0</td>\n",
              "      <td>1/18/2018 12:27</td>\n",
              "      <td>Standard Class</td>\n",
              "    </tr>\n",
              "    <tr>\n",
              "      <th>2</th>\n",
              "      <td>CASH</td>\n",
              "      <td>4</td>\n",
              "      <td>4</td>\n",
              "      <td>-247.779999</td>\n",
              "      <td>309.720001</td>\n",
              "      <td>Shipping on time</td>\n",
              "      <td>0</td>\n",
              "      <td>73</td>\n",
              "      <td>Sporting Goods</td>\n",
              "      <td>San Jose</td>\n",
              "      <td>...</td>\n",
              "      <td>NaN</td>\n",
              "      <td>1360</td>\n",
              "      <td>73</td>\n",
              "      <td>NaN</td>\n",
              "      <td>http://images.acmesports.sports/Smart+watch</td>\n",
              "      <td>Smart watch</td>\n",
              "      <td>327.75</td>\n",
              "      <td>0</td>\n",
              "      <td>1/17/2018 12:06</td>\n",
              "      <td>Standard Class</td>\n",
              "    </tr>\n",
              "    <tr>\n",
              "      <th>3</th>\n",
              "      <td>DEBIT</td>\n",
              "      <td>3</td>\n",
              "      <td>4</td>\n",
              "      <td>22.860001</td>\n",
              "      <td>304.809998</td>\n",
              "      <td>Advance shipping</td>\n",
              "      <td>0</td>\n",
              "      <td>73</td>\n",
              "      <td>Sporting Goods</td>\n",
              "      <td>Los Angeles</td>\n",
              "      <td>...</td>\n",
              "      <td>NaN</td>\n",
              "      <td>1360</td>\n",
              "      <td>73</td>\n",
              "      <td>NaN</td>\n",
              "      <td>http://images.acmesports.sports/Smart+watch</td>\n",
              "      <td>Smart watch</td>\n",
              "      <td>327.75</td>\n",
              "      <td>0</td>\n",
              "      <td>1/16/2018 11:45</td>\n",
              "      <td>Standard Class</td>\n",
              "    </tr>\n",
              "    <tr>\n",
              "      <th>4</th>\n",
              "      <td>PAYMENT</td>\n",
              "      <td>2</td>\n",
              "      <td>4</td>\n",
              "      <td>134.210007</td>\n",
              "      <td>298.250000</td>\n",
              "      <td>Advance shipping</td>\n",
              "      <td>0</td>\n",
              "      <td>73</td>\n",
              "      <td>Sporting Goods</td>\n",
              "      <td>Caguas</td>\n",
              "      <td>...</td>\n",
              "      <td>NaN</td>\n",
              "      <td>1360</td>\n",
              "      <td>73</td>\n",
              "      <td>NaN</td>\n",
              "      <td>http://images.acmesports.sports/Smart+watch</td>\n",
              "      <td>Smart watch</td>\n",
              "      <td>327.75</td>\n",
              "      <td>0</td>\n",
              "      <td>1/15/2018 11:24</td>\n",
              "      <td>Standard Class</td>\n",
              "    </tr>\n",
              "  </tbody>\n",
              "</table>\n",
              "<p>5 rows × 53 columns</p>\n",
              "</div>"
            ],
            "text/plain": [
              "       Type  Days for shipping (real)  Days for shipment (scheduled)  \\\n",
              "0     DEBIT                         3                              4   \n",
              "1  TRANSFER                         5                              4   \n",
              "2      CASH                         4                              4   \n",
              "3     DEBIT                         3                              4   \n",
              "4   PAYMENT                         2                              4   \n",
              "\n",
              "   Benefit per order  Sales per customer   Delivery Status  \\\n",
              "0          91.250000          314.640015  Advance shipping   \n",
              "1        -249.089996          311.359985     Late delivery   \n",
              "2        -247.779999          309.720001  Shipping on time   \n",
              "3          22.860001          304.809998  Advance shipping   \n",
              "4         134.210007          298.250000  Advance shipping   \n",
              "\n",
              "   Late_delivery_risk  Category Id   Category Name Customer City  ...  \\\n",
              "0                   0           73  Sporting Goods        Caguas  ...   \n",
              "1                   1           73  Sporting Goods        Caguas  ...   \n",
              "2                   0           73  Sporting Goods      San Jose  ...   \n",
              "3                   0           73  Sporting Goods   Los Angeles  ...   \n",
              "4                   0           73  Sporting Goods        Caguas  ...   \n",
              "\n",
              "  Order Zipcode Product Card Id Product Category Id  Product Description  \\\n",
              "0           NaN            1360                  73                  NaN   \n",
              "1           NaN            1360                  73                  NaN   \n",
              "2           NaN            1360                  73                  NaN   \n",
              "3           NaN            1360                  73                  NaN   \n",
              "4           NaN            1360                  73                  NaN   \n",
              "\n",
              "                                  Product Image  Product Name Product Price  \\\n",
              "0  http://images.acmesports.sports/Smart+watch   Smart watch         327.75   \n",
              "1  http://images.acmesports.sports/Smart+watch   Smart watch         327.75   \n",
              "2  http://images.acmesports.sports/Smart+watch   Smart watch         327.75   \n",
              "3  http://images.acmesports.sports/Smart+watch   Smart watch         327.75   \n",
              "4  http://images.acmesports.sports/Smart+watch   Smart watch         327.75   \n",
              "\n",
              "  Product Status shipping date (DateOrders)   Shipping Mode  \n",
              "0              0             2/3/2018 22:56  Standard Class  \n",
              "1              0            1/18/2018 12:27  Standard Class  \n",
              "2              0            1/17/2018 12:06  Standard Class  \n",
              "3              0            1/16/2018 11:45  Standard Class  \n",
              "4              0            1/15/2018 11:24  Standard Class  \n",
              "\n",
              "[5 rows x 53 columns]"
            ]
          },
          "execution_count": 3,
          "metadata": {},
          "output_type": "execute_result"
        }
      ],
      "source": [
        "# Let's load the dataset and go through the data cleaning steps.\n",
        "import pandas as pd\n",
        "\n",
        "# Load the dataset\n",
        "data_path = '/Users/vishnupradhan/Downloads/8gx2fvg2k6-1/DataCoSupplyChainDataset.csv'\n",
        "df = pd.read_csv(data_path, encoding='ISO-8859-1')\n",
        "\n",
        "df = pd.read_csv(data_path, encoding='ISO-8859-1')\n",
        "\n",
        "# Display basic information about the dataset and its structure\n",
        "df.info()\n",
        "\n",
        "# Display the first few rows to get a sense of the data\n",
        "df.head()\n"
      ]
    },
    {
      "cell_type": "code",
      "execution_count": null,
      "id": "81c4605d-90cf-44a7-ad8c-63046050b108",
      "metadata": {
        "id": "81c4605d-90cf-44a7-ad8c-63046050b108"
      },
      "outputs": [],
      "source": [
        "# Data Cleaning and Feature Selection\n",
        "\n",
        "# We cleaned the data by removing unnecessary columns and handling missing values.\n",
        "# Selected relevant features for stockout prediction:\n",
        "# 'Days for shipping (real)', 'Late_delivery_risk', 'Sales per customer', and 'Benefit per order'\n",
        "\n",
        "# The cleaned dataset is now ready for modeling.\n"
      ]
    },
    {
      "cell_type": "code",
      "execution_count": null,
      "id": "8431bb59-3310-4f15-a513-4626e8502b2f",
      "metadata": {
        "id": "8431bb59-3310-4f15-a513-4626e8502b2f",
        "outputId": "62741c91-a572-40e3-cefb-7f971bbb61c1"
      },
      "outputs": [
        {
          "name": "stdout",
          "output_type": "stream",
          "text": [
            "   Days for shipping (real)  Days for shipment (scheduled)  \\\n",
            "0                         3                              4   \n",
            "1                         5                              4   \n",
            "2                         4                              4   \n",
            "3                         3                              4   \n",
            "4                         2                              4   \n",
            "\n",
            "   Late_delivery_risk  Sales per customer  Benefit per order   Shipping Mode  \n",
            "0                   0            1.095773          91.250000  Standard Class  \n",
            "1                   1            1.068448        -249.089996  Standard Class  \n",
            "2                   0            1.054787        -247.779999  Standard Class  \n",
            "3                   0            1.013884          22.860001  Standard Class  \n",
            "4                   0            0.959236         134.210007  Standard Class  \n"
          ]
        },
        {
          "name": "stderr",
          "output_type": "stream",
          "text": [
            "/var/folders/ml/mzs4r1y147sct545s2zm0_600000gn/T/ipykernel_6669/3931905416.py:21: SettingWithCopyWarning: \n",
            "A value is trying to be set on a copy of a slice from a DataFrame.\n",
            "Try using .loc[row_indexer,col_indexer] = value instead\n",
            "\n",
            "See the caveats in the documentation: https://pandas.pydata.org/pandas-docs/stable/user_guide/indexing.html#returning-a-view-versus-a-copy\n",
            "  df_selected['Sales per customer'] = (df_selected['Sales per customer'] - df_selected['Sales per customer'].mean()) / df_selected['Sales per customer'].std()\n"
          ]
        }
      ],
      "source": [
        "# Drop unnecessary columns\n",
        "df_cleaned = df.drop(columns=['Product Description', 'Order Zipcode'])\n",
        "\n",
        "# Handle missing values by dropping rows with missing customer data\n",
        "df_cleaned = df_cleaned.dropna(subset=['Customer Lname', 'Customer Zipcode'])\n",
        "\n",
        "# Convert date columns to proper datetime format\n",
        "df_cleaned['order date (DateOrders)'] = pd.to_datetime(df_cleaned['order date (DateOrders)'], errors='coerce')\n",
        "df_cleaned['shipping date (DateOrders)'] = pd.to_datetime(df_cleaned['shipping date (DateOrders)'], errors='coerce')\n",
        "\n",
        "# Select relevant features for demand prediction and stockout mitigation\n",
        "# For simplicity, you might use features like Days for shipping, Late_delivery_risk, and Sales per customer\n",
        "features = ['Days for shipping (real)', 'Days for shipment (scheduled)', 'Late_delivery_risk',\n",
        "            'Sales per customer', 'Benefit per order', 'Shipping Mode']\n",
        "\n",
        "# Extract the selected features\n",
        "df_selected = df_cleaned[features]\n",
        "\n",
        "# Normalize or preprocess data if necessary\n",
        "# Example: Normalize sales per customer for better learning in DQN\n",
        "df_selected['Sales per customer'] = (df_selected['Sales per customer'] - df_selected['Sales per customer'].mean()) / df_selected['Sales per customer'].std()\n",
        "\n",
        "# Display the cleaned and selected data\n",
        "print(df_selected.head())\n",
        "\n",
        "# This cleaned and processed data will be integrated into the DQN environment next"
      ]
    },
    {
      "cell_type": "code",
      "execution_count": null,
      "id": "bd25330f-e1ac-4149-84ca-394ae6a8c479",
      "metadata": {
        "id": "bd25330f-e1ac-4149-84ca-394ae6a8c479",
        "outputId": "14f7c812-972a-4ca3-cdde-e9247ad2271b"
      },
      "outputs": [
        {
          "name": "stdout",
          "output_type": "stream",
          "text": [
            "Initial state: [50.         3.         4.         0.         1.0957725]\n",
            "Next state: [58.90423    5.         4.         1.         1.0684484], Reward: 80.819677997006, Done: False\n"
          ]
        }
      ],
      "source": [
        "import gym\n",
        "from gym import spaces\n",
        "import numpy as np\n",
        "\n",
        "class StockoutMitigationEnv(gym.Env):\n",
        "    def __init__(self, df):\n",
        "        super(StockoutMitigationEnv, self).__init__()\n",
        "\n",
        "        # Use real data features from the dataframe for state space\n",
        "        self.df = df\n",
        "        self.current_step = 0\n",
        "\n",
        "        # Define state space with relevant features (5 features for now)\n",
        "        self.observation_space = spaces.Box(low=-np.inf, high=np.inf, shape=(5,), dtype=np.float32)\n",
        "\n",
        "        # Action space: 0 = no restock, 1 = small restock, 2 = large restock\n",
        "        self.action_space = spaces.Discrete(3)\n",
        "\n",
        "        # Initial inventory and parameters\n",
        "        self.inventory = 50  # Starting inventory\n",
        "        self.max_inventory = 100  # Inventory capacity\n",
        "        self.restock_amounts = [0, 10, 20]\n",
        "\n",
        "        # Reward parameters\n",
        "        self.stockout_penalty = -10\n",
        "        self.holding_cost = -1\n",
        "        self.sale_profit = 20\n",
        "\n",
        "    def reset(self):\n",
        "        \"\"\"Reset the environment to an initial state.\"\"\"\n",
        "        self.current_step = 0\n",
        "        self.inventory = 50\n",
        "        return self._get_observation()\n",
        "\n",
        "    def step(self, action):\n",
        "        \"\"\"Execute one time step within the environment.\"\"\"\n",
        "        # Determine restock amount based on action\n",
        "        restock_amount = self.restock_amounts[action]\n",
        "        self.inventory += restock_amount\n",
        "\n",
        "        # Get the demand and other features from the dataframe for the current step\n",
        "        demand = self.df.iloc[self.current_step]['Sales per customer']\n",
        "        late_risk = self.df.iloc[self.current_step]['Late_delivery_risk']\n",
        "\n",
        "        # Simulate demand fulfillment\n",
        "        fulfilled_demand = min(self.inventory, demand)\n",
        "        self.inventory -= fulfilled_demand\n",
        "\n",
        "        # Calculate reward\n",
        "        reward = fulfilled_demand * self.sale_profit - (self.inventory * self.holding_cost)\n",
        "        if fulfilled_demand < demand:\n",
        "            reward += self.stockout_penalty\n",
        "\n",
        "        # Penalty for late delivery risk\n",
        "        reward -= late_risk * 10  # Additional penalty for late deliveries\n",
        "\n",
        "        # Move to the next step\n",
        "        self.current_step += 1\n",
        "        if self.current_step >= len(self.df):\n",
        "            done = True  # End of the episode\n",
        "        else:\n",
        "            done = False\n",
        "\n",
        "        return self._get_observation(), reward, done, {}\n",
        "\n",
        "    def _get_observation(self):\n",
        "        \"\"\"Return the current observation (state) for the environment.\"\"\"\n",
        "        current_row = self.df.iloc[self.current_step]\n",
        "        return np.array([self.inventory,\n",
        "                         current_row['Days for shipping (real)'],\n",
        "                         current_row['Days for shipment (scheduled)'],\n",
        "                         current_row['Late_delivery_risk'],\n",
        "                         current_row['Sales per customer']], dtype=np.float32)\n",
        "\n",
        "    def render(self):\n",
        "        \"\"\"Render the current state (for debugging).\"\"\"\n",
        "        print(f\"Step: {self.current_step}, Inventory: {self.inventory}\")\n",
        "\n",
        "# Example usage:\n",
        "env = StockoutMitigationEnv(df_selected)\n",
        "\n",
        "# Reset the environment to start\n",
        "state = env.reset()\n",
        "print(f\"Initial state: {state}\")\n",
        "\n",
        "# Take a step in the environment (action 1 = small restock)\n",
        "next_state, reward, done, _ = env.step(1)\n",
        "print(f\"Next state: {next_state}, Reward: {reward}, Done: {done}\")"
      ]
    },
    {
      "cell_type": "markdown",
      "id": "32f7c933-2901-402d-939b-6d2972a56b9d",
      "metadata": {
        "id": "32f7c933-2901-402d-939b-6d2972a56b9d"
      },
      "source": [
        "### This custom reinforcement learning environment simulates stockout mitigation by managing inventory levels. The model takes restocking actions, calculates rewards based on sales, holding costs, and late delivery risks, and updates the state accordingly.\n",
        "\n",
        "\n",
        "\n",
        "\n",
        "\n",
        "\n"
      ]
    },
    {
      "cell_type": "code",
      "execution_count": null,
      "id": "ff6f4ac1-2d8f-4afb-ac0e-0efac2915282",
      "metadata": {
        "id": "ff6f4ac1-2d8f-4afb-ac0e-0efac2915282",
        "outputId": "f4b2405a-acae-473e-f104-d3f4bba3ae3d"
      },
      "outputs": [
        {
          "name": "stdout",
          "output_type": "stream",
          "text": [
            "Step: 1\n",
            "Inventory Level: 58.90\n",
            "Days for Shipping (Real): 5.00\n",
            "Days for Shipment (Scheduled): 4.00\n",
            "Late Delivery Risk: 1.00\n",
            "Sales per Customer: 1.07\n",
            "Reward: 80.82\n",
            "Done: False\n",
            "------------------------------\n"
          ]
        }
      ],
      "source": [
        "import gym\n",
        "from gym import spaces\n",
        "import numpy as np\n",
        "\n",
        "class StockoutMitigationEnv(gym.Env):\n",
        "    def __init__(self, df):\n",
        "        super(StockoutMitigationEnv, self).__init__()\n",
        "\n",
        "        # Use real data features from the dataframe for state space\n",
        "        self.df = df\n",
        "        self.current_step = 0\n",
        "\n",
        "        # Define state space with relevant features (5 features for now)\n",
        "        self.observation_space = spaces.Box(low=-np.inf, high=np.inf, shape=(5,), dtype=np.float32)\n",
        "\n",
        "        # Action space: 0 = no restock, 1 = small restock, 2 = large restock\n",
        "        self.action_space = spaces.Discrete(3)\n",
        "\n",
        "        # Initial inventory and parameters\n",
        "        self.inventory = 50  # Starting inventory\n",
        "        self.max_inventory = 100  # Inventory capacity\n",
        "        self.restock_amounts = [0, 10, 20]\n",
        "\n",
        "        # Reward parameters\n",
        "        self.stockout_penalty = -10\n",
        "        self.holding_cost = -1\n",
        "        self.sale_profit = 20\n",
        "\n",
        "    def reset(self):\n",
        "        \"\"\"Reset the environment to an initial state.\"\"\"\n",
        "        self.current_step = 0\n",
        "        self.inventory = 50\n",
        "        return self._get_observation()\n",
        "\n",
        "    def step(self, action):\n",
        "        \"\"\"Execute one time step within the environment.\"\"\"\n",
        "        # Determine restock amount based on action\n",
        "        restock_amount = self.restock_amounts[action]\n",
        "        self.inventory += restock_amount\n",
        "\n",
        "        # Get the demand and other features from the dataframe for the current step\n",
        "        demand = self.df.iloc[self.current_step]['Sales per customer']\n",
        "        late_risk = self.df.iloc[self.current_step]['Late_delivery_risk']\n",
        "\n",
        "        # Simulate demand fulfillment\n",
        "        fulfilled_demand = min(self.inventory, demand)\n",
        "        self.inventory -= fulfilled_demand\n",
        "\n",
        "        # Calculate reward\n",
        "        reward = fulfilled_demand * self.sale_profit - (self.inventory * self.holding_cost)\n",
        "        if fulfilled_demand < demand:\n",
        "            reward += self.stockout_penalty\n",
        "\n",
        "        # Penalty for late delivery risk\n",
        "        reward -= late_risk * 10  # Additional penalty for late deliveries\n",
        "\n",
        "        # Move to the next step\n",
        "        self.current_step += 1\n",
        "        if self.current_step >= len(self.df):\n",
        "            done = True  # End of the episode\n",
        "        else:\n",
        "            done = False\n",
        "\n",
        "        return self._get_observation(), reward, done, {}\n",
        "\n",
        "    def _get_observation(self):\n",
        "        \"\"\"Return the current observation (state) for the environment.\"\"\"\n",
        "        current_row = self.df.iloc[self.current_step]\n",
        "        return np.array([self.inventory,\n",
        "                         current_row['Days for shipping (real)'],\n",
        "                         current_row['Days for shipment (scheduled)'],\n",
        "                         current_row['Late_delivery_risk'],\n",
        "                         current_row['Sales per customer']], dtype=np.float32)\n",
        "\n",
        "    def render(self, state, reward, done):\n",
        "        \"\"\"Render the current state (with labels for clarity).\"\"\"\n",
        "        print(f\"Step: {self.current_step}\")\n",
        "        print(f\"Inventory Level: {state[0]:.2f}\")\n",
        "        print(f\"Days for Shipping (Real): {state[1]:.2f}\")\n",
        "        print(f\"Days for Shipment (Scheduled): {state[2]:.2f}\")\n",
        "        print(f\"Late Delivery Risk: {state[3]:.2f}\")\n",
        "        print(f\"Sales per Customer: {state[4]:.2f}\")\n",
        "        print(f\"Reward: {reward:.2f}\")\n",
        "        print(f\"Done: {done}\")\n",
        "        print(\"-\" * 30)\n",
        "\n",
        "# Example usage:\n",
        "env = StockoutMitigationEnv(df_selected)\n",
        "\n",
        "# Reset the environment to start\n",
        "state = env.reset()\n",
        "\n",
        "# Take a step in the environment (action 1 = small restock)\n",
        "next_state, reward, done, _ = env.step(1)\n",
        "\n",
        "# Render the current state with labels for clarity\n",
        "env.render(next_state, reward, done)\n"
      ]
    },
    {
      "cell_type": "markdown",
      "id": "805e7a55-9646-4fcf-89aa-4bc728e65519",
      "metadata": {
        "id": "805e7a55-9646-4fcf-89aa-4bc728e65519"
      },
      "source": [
        "### The code simulates inventory management, showing labeled outputs for inventory, shipping delays, demand, reward, and episode status at each step."
      ]
    },
    {
      "cell_type": "code",
      "execution_count": null,
      "id": "566f07af-8659-4ed5-8179-025579305939",
      "metadata": {
        "id": "566f07af-8659-4ed5-8179-025579305939",
        "outputId": "abe32544-32fc-4347-cec7-cefe55274863"
      },
      "outputs": [
        {
          "name": "stdout",
          "output_type": "stream",
          "text": [
            "Requirement already satisfied: torch in /Library/Frameworks/Python.framework/Versions/3.12/lib/python3.12/site-packages (2.4.1)\n",
            "Requirement already satisfied: torchvision in /Library/Frameworks/Python.framework/Versions/3.12/lib/python3.12/site-packages (0.19.1)\n",
            "Requirement already satisfied: torchaudio in /Library/Frameworks/Python.framework/Versions/3.12/lib/python3.12/site-packages (2.4.1)\n",
            "Requirement already satisfied: filelock in /Library/Frameworks/Python.framework/Versions/3.12/lib/python3.12/site-packages (from torch) (3.16.1)\n",
            "Requirement already satisfied: typing-extensions>=4.8.0 in /Library/Frameworks/Python.framework/Versions/3.12/lib/python3.12/site-packages (from torch) (4.12.2)\n",
            "Requirement already satisfied: sympy in /Library/Frameworks/Python.framework/Versions/3.12/lib/python3.12/site-packages (from torch) (1.13.3)\n",
            "Requirement already satisfied: networkx in /Library/Frameworks/Python.framework/Versions/3.12/lib/python3.12/site-packages (from torch) (3.4.1)\n",
            "Requirement already satisfied: jinja2 in /Library/Frameworks/Python.framework/Versions/3.12/lib/python3.12/site-packages (from torch) (3.1.3)\n",
            "Requirement already satisfied: fsspec in /Library/Frameworks/Python.framework/Versions/3.12/lib/python3.12/site-packages (from torch) (2024.9.0)\n",
            "Requirement already satisfied: setuptools in /Library/Frameworks/Python.framework/Versions/3.12/lib/python3.12/site-packages (from torch) (69.5.1)\n",
            "Requirement already satisfied: numpy in /Library/Frameworks/Python.framework/Versions/3.12/lib/python3.12/site-packages (from torchvision) (1.26.4)\n",
            "Requirement already satisfied: pillow!=8.3.*,>=5.3.0 in /Library/Frameworks/Python.framework/Versions/3.12/lib/python3.12/site-packages (from torchvision) (10.2.0)\n",
            "Requirement already satisfied: MarkupSafe>=2.0 in /Library/Frameworks/Python.framework/Versions/3.12/lib/python3.12/site-packages (from jinja2->torch) (2.1.3)\n",
            "Requirement already satisfied: mpmath<1.4,>=1.1.0 in /Library/Frameworks/Python.framework/Versions/3.12/lib/python3.12/site-packages (from sympy->torch) (1.3.0)\n",
            "\n",
            "\u001b[1m[\u001b[0m\u001b[34;49mnotice\u001b[0m\u001b[1;39;49m]\u001b[0m\u001b[39;49m A new release of pip is available: \u001b[0m\u001b[31;49m24.0\u001b[0m\u001b[39;49m -> \u001b[0m\u001b[32;49m24.2\u001b[0m\n",
            "\u001b[1m[\u001b[0m\u001b[34;49mnotice\u001b[0m\u001b[1;39;49m]\u001b[0m\u001b[39;49m To update, run: \u001b[0m\u001b[32;49mpip install --upgrade pip\u001b[0m\n",
            "Note: you may need to restart the kernel to use updated packages.\n"
          ]
        }
      ],
      "source": [
        "pip install torch torchvision torchaudio\n"
      ]
    },
    {
      "cell_type": "code",
      "execution_count": null,
      "id": "1320ed84-48a1-49d6-9e6e-d4083db683ef",
      "metadata": {
        "id": "1320ed84-48a1-49d6-9e6e-d4083db683ef",
        "outputId": "acc6f295-ead8-4880-f4c3-5bfc25e47636"
      },
      "outputs": [
        {
          "name": "stdout",
          "output_type": "stream",
          "text": [
            "2.4.1\n"
          ]
        }
      ],
      "source": [
        "import torch\n",
        "print(torch.__version__)\n"
      ]
    },
    {
      "cell_type": "code",
      "execution_count": null,
      "id": "69cda435-c193-4976-9589-2a0aa0c3a8b3",
      "metadata": {
        "id": "69cda435-c193-4976-9589-2a0aa0c3a8b3",
        "outputId": "ce229b59-2c92-4c19-8301-c56f5a197daf"
      },
      "outputs": [
        {
          "name": "stderr",
          "output_type": "stream",
          "text": [
            "/var/folders/ml/mzs4r1y147sct545s2zm0_600000gn/T/ipykernel_6669/4119484510.py:67: UserWarning: Creating a tensor from a list of numpy.ndarrays is extremely slow. Please consider converting the list to a single numpy.ndarray with numpy.array() before converting to a tensor. (Triggered internally at /Users/runner/work/pytorch/pytorch/pytorch/torch/csrc/utils/tensor_new.cpp:281.)\n",
            "  states = torch.FloatTensor(states)\n"
          ]
        },
        {
          "name": "stdout",
          "output_type": "stream",
          "text": [
            "Episode 1/500, Total Reward: 58586.15843252248, Epsilon: 0.99\n",
            "Episode 11/500, Total Reward: 61166.15843252248, Epsilon: 0.95\n",
            "Episode 21/500, Total Reward: 57646.158432522476, Epsilon: 0.90\n",
            "Episode 31/500, Total Reward: 65436.158432522476, Epsilon: 0.86\n",
            "Episode 41/500, Total Reward: 66496.15843252247, Epsilon: 0.81\n",
            "Episode 51/500, Total Reward: 65776.15843252247, Epsilon: 0.77\n",
            "Episode 61/500, Total Reward: 59076.15843252248, Epsilon: 0.74\n",
            "Episode 71/500, Total Reward: 64346.15843252247, Epsilon: 0.70\n",
            "Episode 81/500, Total Reward: 68426.15843252247, Epsilon: 0.67\n",
            "Episode 91/500, Total Reward: 69916.15843252247, Epsilon: 0.63\n",
            "Episode 101/500, Total Reward: 73016.15843252248, Epsilon: 0.60\n",
            "Episode 111/500, Total Reward: 71576.15843252248, Epsilon: 0.57\n",
            "Episode 121/500, Total Reward: 72596.15843252248, Epsilon: 0.55\n",
            "Episode 131/500, Total Reward: 81396.1584325225, Epsilon: 0.52\n",
            "Episode 141/500, Total Reward: 77406.1584325225, Epsilon: 0.49\n",
            "Episode 151/500, Total Reward: 80736.15843252248, Epsilon: 0.47\n",
            "Episode 161/500, Total Reward: 77266.1584325225, Epsilon: 0.45\n",
            "Episode 171/500, Total Reward: 84586.1584325225, Epsilon: 0.42\n",
            "Episode 181/500, Total Reward: 77366.1584325225, Epsilon: 0.40\n",
            "Episode 191/500, Total Reward: 86686.1584325225, Epsilon: 0.38\n",
            "Episode 201/500, Total Reward: 85906.15843252248, Epsilon: 0.37\n",
            "Episode 211/500, Total Reward: 87036.15843252248, Epsilon: 0.35\n",
            "Episode 221/500, Total Reward: 81866.1584325225, Epsilon: 0.33\n",
            "Episode 231/500, Total Reward: 83736.15843252248, Epsilon: 0.31\n",
            "Episode 241/500, Total Reward: 86796.1584325225, Epsilon: 0.30\n",
            "Episode 251/500, Total Reward: 88616.1584325225, Epsilon: 0.28\n",
            "Episode 261/500, Total Reward: 92836.15843252245, Epsilon: 0.27\n",
            "Episode 271/500, Total Reward: 89406.15843252248, Epsilon: 0.26\n",
            "Episode 281/500, Total Reward: 93546.15843252245, Epsilon: 0.24\n",
            "Episode 291/500, Total Reward: 88976.15843252248, Epsilon: 0.23\n",
            "Episode 301/500, Total Reward: 95636.15843252248, Epsilon: 0.22\n",
            "Episode 311/500, Total Reward: 96086.15843252245, Epsilon: 0.21\n",
            "Episode 321/500, Total Reward: 95956.15843252245, Epsilon: 0.20\n",
            "Episode 331/500, Total Reward: 92016.15843252248, Epsilon: 0.19\n",
            "Episode 341/500, Total Reward: 96746.15843252245, Epsilon: 0.18\n",
            "Episode 351/500, Total Reward: 93656.15843252245, Epsilon: 0.17\n",
            "Episode 361/500, Total Reward: 99876.15843252245, Epsilon: 0.16\n",
            "Episode 371/500, Total Reward: 96006.15843252248, Epsilon: 0.16\n",
            "Episode 381/500, Total Reward: 94406.15843252248, Epsilon: 0.15\n",
            "Episode 391/500, Total Reward: 91896.15843252248, Epsilon: 0.14\n",
            "Episode 401/500, Total Reward: 93716.15843252245, Epsilon: 0.13\n",
            "Episode 411/500, Total Reward: 93556.15843252245, Epsilon: 0.13\n",
            "Episode 421/500, Total Reward: 100566.15843252244, Epsilon: 0.12\n",
            "Episode 431/500, Total Reward: 100076.15843252245, Epsilon: 0.12\n",
            "Episode 441/500, Total Reward: 93646.15843252245, Epsilon: 0.11\n",
            "Episode 451/500, Total Reward: 99246.15843252245, Epsilon: 0.10\n",
            "Episode 461/500, Total Reward: 98936.15843252245, Epsilon: 0.10\n",
            "Episode 471/500, Total Reward: 97146.15843252245, Epsilon: 0.09\n",
            "Episode 481/500, Total Reward: 96786.15843252248, Epsilon: 0.09\n",
            "Episode 491/500, Total Reward: 99686.15843252245, Epsilon: 0.09\n",
            "Training complete!\n"
          ]
        }
      ],
      "source": [
        "import torch\n",
        "import torch.nn as nn\n",
        "import torch.optim as optim\n",
        "import random\n",
        "from collections import deque\n",
        "\n",
        "# Define the Q-network (Deep Q-Network)\n",
        "class DQN(nn.Module):\n",
        "    def __init__(self, state_size, action_size):\n",
        "        super(DQN, self).__init__()\n",
        "        self.fc1 = nn.Linear(state_size, 24)\n",
        "        self.fc2 = nn.Linear(24, 24)\n",
        "        self.fc3 = nn.Linear(24, action_size)\n",
        "\n",
        "    def forward(self, state):\n",
        "        x = torch.relu(self.fc1(state))\n",
        "        x = torch.relu(self.fc2(x))\n",
        "        return self.fc3(x)\n",
        "\n",
        "# Hyperparameters\n",
        "state_size = 5  # Size of the state space (inventory, demand, shipping, etc.)\n",
        "action_size = env.action_space.n  # Number of possible actions (0, 1, 2)\n",
        "learning_rate = 0.001\n",
        "gamma = 0.99  # Discount factor for future rewards\n",
        "epsilon = 1.0  # Exploration rate (start high, decay over time)\n",
        "epsilon_min = 0.01\n",
        "epsilon_decay = 0.995\n",
        "batch_size = 32\n",
        "memory_size = 2000\n",
        "target_update = 10  # Update target network every 10 episodes\n",
        "\n",
        "# Replay memory\n",
        "memory = deque(maxlen=memory_size)\n",
        "\n",
        "# Initialize Q-network and target Q-network\n",
        "policy_net = DQN(state_size, action_size)\n",
        "target_net = DQN(state_size, action_size)\n",
        "target_net.load_state_dict(policy_net.state_dict())\n",
        "target_net.eval()\n",
        "\n",
        "# Optimizer and loss function\n",
        "optimizer = optim.Adam(policy_net.parameters(), lr=learning_rate)\n",
        "loss_fn = nn.MSELoss()\n",
        "\n",
        "# Function to select an action (epsilon-greedy strategy)\n",
        "def select_action(state, epsilon):\n",
        "    if random.random() < epsilon:\n",
        "        return random.randrange(action_size)  # Random action (exploration)\n",
        "    with torch.no_grad():\n",
        "        state = torch.FloatTensor(state).unsqueeze(0)\n",
        "        q_values = policy_net(state)\n",
        "        return torch.argmax(q_values).item()  # Best action (exploitation)\n",
        "\n",
        "# Function to store experience in replay memory\n",
        "def store_experience(state, action, reward, next_state, done):\n",
        "    memory.append((state, action, reward, next_state, done))\n",
        "\n",
        "# Function to train the Q-network\n",
        "def train_q_network():\n",
        "    if len(memory) < batch_size:\n",
        "        return\n",
        "\n",
        "    # Sample a batch of experiences\n",
        "    batch = random.sample(memory, batch_size)\n",
        "    states, actions, rewards, next_states, dones = zip(*batch)\n",
        "\n",
        "    states = torch.FloatTensor(states)\n",
        "    actions = torch.LongTensor(actions)\n",
        "    rewards = torch.FloatTensor(rewards)\n",
        "    next_states = torch.FloatTensor(next_states)\n",
        "    dones = torch.FloatTensor(dones)\n",
        "\n",
        "    # Get current Q-values for the actions taken\n",
        "    q_values = policy_net(states).gather(1, actions.unsqueeze(1)).squeeze(1)\n",
        "\n",
        "    # Get the maximum Q-values for the next states from the target network\n",
        "    next_q_values = target_net(next_states).max(1)[0]\n",
        "    target_q_values = rewards + (gamma * next_q_values * (1 - dones))\n",
        "\n",
        "    # Compute loss and update policy network\n",
        "    loss = loss_fn(q_values, target_q_values.detach())\n",
        "    optimizer.zero_grad()\n",
        "    loss.backward()\n",
        "    optimizer.step()\n",
        "\n",
        "# Training loop\n",
        "num_episodes = 500  # Adjust this number as needed\n",
        "for episode in range(num_episodes):\n",
        "    state = env.reset()\n",
        "    total_reward = 0\n",
        "\n",
        "    for t in range(100):  # Limit the number of steps per episode\n",
        "        action = select_action(state, epsilon)\n",
        "        next_state, reward, done, _ = env.step(action)\n",
        "        store_experience(state, action, reward, next_state, done)\n",
        "        train_q_network()\n",
        "\n",
        "        state = next_state\n",
        "        total_reward += reward\n",
        "\n",
        "        if done:\n",
        "            break\n",
        "\n",
        "    # Update target network periodically\n",
        "    if episode % target_update == 0:\n",
        "        target_net.load_state_dict(policy_net.state_dict())\n",
        "\n",
        "    # Decay epsilon (less exploration over time)\n",
        "    epsilon = max(epsilon_min, epsilon * epsilon_decay)\n",
        "\n",
        "    # Print episode progress every 10 episodes\n",
        "    if episode % 10 == 0:\n",
        "        print(f\"Episode {episode+1}/{num_episodes}, Total Reward: {total_reward}, Epsilon: {epsilon:.2f}\")\n",
        "\n",
        "print(\"Training complete!\")\n"
      ]
    },
    {
      "cell_type": "markdown",
      "id": "57a83841-591d-48f4-8b17-549f15cf39f7",
      "metadata": {
        "id": "57a83841-591d-48f4-8b17-549f15cf39f7"
      },
      "source": [
        "### This code implements a Deep Q-Network (DQN) to optimize restocking actions, using Q-learning with experience replay. The network trains over 500 episodes, reducing exploration (epsilon) gradually, and achieving increasing total rewards per episode."
      ]
    },
    {
      "cell_type": "code",
      "execution_count": null,
      "id": "a3af7e88-33ac-46c5-99cf-6597a2c1045b",
      "metadata": {
        "id": "a3af7e88-33ac-46c5-99cf-6597a2c1045b",
        "outputId": "2822213a-b181-4837-912a-99cab9401f99"
      },
      "outputs": [
        {
          "data": {
            "image/png": "[encoded data removed]",
            "text/plain": [
              "<Figure size 640x480 with 1 Axes>"
            ]
          },
          "metadata": {},
          "output_type": "display_data"
        }
      ],
      "source": [
        "import matplotlib.pyplot as plt\n",
        "\n",
        "# Adjust episodes list to match the length of total_rewards\n",
        "episodes = list(range(1, 51))  # Adjust to match the number of rewards you have (50)\n",
        "\n",
        "# Example total_rewards (collected from earlier output)\n",
        "total_rewards = [58586.15843252248, 61166.15843252248, 57646.158432522476, 65436.158432522476,\n",
        "    66496.15843252247, 65776.15843252247, 59076.15843252248, 64346.15843252247,\n",
        "    68426.15843252247, 69916.15843252247, 73016.15843252248, 71576.15843252248,\n",
        "    72596.15843252248, 81396.1584325225, 77406.1584325225, 80736.15843252248,\n",
        "    77266.1584325225, 84586.1584325225, 77366.1584325225, 86686.1584325225,\n",
        "    85906.15843252248, 87036.15843252248, 81866.1584325225, 83736.15843252248,\n",
        "    86796.1584325225, 88616.1584325225, 92836.15843252245, 89406.15843252248,\n",
        "    93546.15843252245, 88976.15843252248, 95636.15843252248, 96086.15843252245,\n",
        "    95956.15843252245, 92016.15843252248, 96746.15843252245, 93656.15843252245,\n",
        "    99876.15843252245, 96006.15843252248, 94406.15843252248, 91896.15843252248,\n",
        "    93716.15843252245, 93556.15843252245, 100566.15843252244, 100076.15843252245,\n",
        "    93646.15843252245, 99246.15843252245, 98936.15843252245, 97146.15843252245,\n",
        "    96786.15843252248, 99686.15843252245]\n",
        "\n",
        "# Plot the rewards\n",
        "plt.plot(episodes, total_rewards)\n",
        "plt.xlabel('Episode')\n",
        "plt.ylabel('Total Reward')\n",
        "plt.title('Total Reward Over Time (Episodes)')\n",
        "plt.show()\n"
      ]
    },
    {
      "cell_type": "code",
      "execution_count": null,
      "id": "f341fc4b-6f06-4421-a126-c1cedf2b9a63",
      "metadata": {
        "id": "f341fc4b-6f06-4421-a126-c1cedf2b9a63",
        "outputId": "e47af290-6131-4ad0-ffe1-c05fc610f030"
      },
      "outputs": [
        {
          "name": "stdout",
          "output_type": "stream",
          "text": [
            "Test Total Reward: 103036.15843252244\n"
          ]
        }
      ],
      "source": [
        "# Assuming the RL model has been trained, let's test the agent on new data\n",
        "\n",
        "# Reset the environment for a new test\n",
        "test_state = env.reset()\n",
        "test_total_reward = 0\n",
        "\n",
        "# Run the agent for 100 steps in the test environment\n",
        "for t in range(100):\n",
        "    # The agent will select the best action based on its training\n",
        "    test_action = select_action(test_state, epsilon=0.01)  # Use low epsilon to exploit learned policy\n",
        "    test_next_state, test_reward, test_done, _ = env.step(test_action)\n",
        "\n",
        "    test_state = test_next_state\n",
        "    test_total_reward += test_reward\n",
        "\n",
        "    if test_done:\n",
        "        break\n",
        "\n",
        "print(f\"Test Total Reward: {test_total_reward}\")\n"
      ]
    },
    {
      "cell_type": "markdown",
      "id": "d888de90-401a-4904-9309-d37fb66b7f73",
      "metadata": {
        "id": "d888de90-401a-4904-9309-d37fb66b7f73"
      },
      "source": [
        "### The total reward of 103036.16 reflects the agent’s performance during testing, indicating cumulative profit after accounting for costs, penalties, and sales over 100 steps. A high reward suggests effective restocking decisions, minimizing stockouts and optimizing inventory levels. This measure is key in assessing the model's success in dynamic inventory management, supporting the project’s goal of balancing inventory costs and stockout risks."
      ]
    },
    {
      "cell_type": "code",
      "execution_count": null,
      "id": "4e113359-8d15-46e4-ab05-23d30cb78964",
      "metadata": {
        "id": "4e113359-8d15-46e4-ab05-23d30cb78964"
      },
      "outputs": [],
      "source": [
        "# Example: Tune hyperparameters\n",
        "learning_rate = 0.0005  # Experiment with lower learning rates\n",
        "gamma = 0.95  # Experiment with different discount factors (rewards over time)\n",
        "\n",
        "# Use the same training code but update the hyperparameters above\n"
      ]
    },
    {
      "cell_type": "code",
      "execution_count": null,
      "id": "f92f16f6-9023-42c3-b6a6-38019feb73c6",
      "metadata": {
        "id": "f92f16f6-9023-42c3-b6a6-38019feb73c6",
        "outputId": "12bb7978-ba94-4582-b216-f89ead552e22"
      },
      "outputs": [
        {
          "name": "stderr",
          "output_type": "stream",
          "text": [
            "/var/folders/ml/mzs4r1y147sct545s2zm0_600000gn/T/ipykernel_6669/1572076720.py:9: SettingWithCopyWarning: \n",
            "A value is trying to be set on a copy of a slice from a DataFrame.\n",
            "Try using .loc[row_indexer,col_indexer] = value instead\n",
            "\n",
            "See the caveats in the documentation: https://pandas.pydata.org/pandas-docs/stable/user_guide/indexing.html#returning-a-view-versus-a-copy\n",
            "  df_selected['Cluster'] = kmeans.fit_predict(features_for_clustering)\n"
          ]
        },
        {
          "data": {
            "image/png": "[encoded data removed]",
            "text/plain": [
              "<Figure size 640x480 with 1 Axes>"
            ]
          },
          "metadata": {},
          "output_type": "display_data"
        }
      ],
      "source": [
        "from sklearn.cluster import KMeans\n",
        "import matplotlib.pyplot as plt\n",
        "\n",
        "# Prepare data for clustering\n",
        "features_for_clustering = df_selected[['Days for shipping (real)', 'Late_delivery_risk', 'Sales per customer']]\n",
        "\n",
        "# Apply K-Means clustering with 3 clusters (you can adjust this)\n",
        "kmeans = KMeans(n_clusters=3, random_state=42)\n",
        "df_selected['Cluster'] = kmeans.fit_predict(features_for_clustering)\n",
        "\n",
        "# Visualize the clustering\n",
        "plt.scatter(df_selected['Sales per customer'], df_selected['Days for shipping (real)'], c=df_selected['Cluster'])\n",
        "plt.xlabel('Sales per customer')\n",
        "plt.ylabel('Days for shipping (real)')\n",
        "plt.title('Clustering of Products or Regions')\n",
        "plt.show()\n"
      ]
    },
    {
      "cell_type": "markdown",
      "id": "dd26f921-1091-4fc0-b558-aab7d250e662",
      "metadata": {
        "id": "dd26f921-1091-4fc0-b558-aab7d250e662"
      },
      "source": [
        "### This clustering analysis identifies groups of products or regions with similar shipping times, delivery risks, and sales levels. It supports inventory optimization, demand forecasting, and shipping efficiency, aligning with our stockout mitigation and supply chain goals.\n"
      ]
    },
    {
      "cell_type": "code",
      "execution_count": null,
      "id": "c8731553-e85f-48fc-9540-3704cb5ddcdd",
      "metadata": {
        "id": "c8731553-e85f-48fc-9540-3704cb5ddcdd",
        "outputId": "d67a654b-df0a-40fa-8d8f-9554bc01933f"
      },
      "outputs": [
        {
          "name": "stdout",
          "output_type": "stream",
          "text": [
            "Random Forest Accuracy: 0.8005650656473325\n"
          ]
        }
      ],
      "source": [
        "from sklearn.ensemble import RandomForestClassifier\n",
        "from sklearn.model_selection import train_test_split\n",
        "from sklearn.metrics import accuracy_score\n",
        "\n",
        "# Define features and target\n",
        "X = df_selected[['Days for shipping (real)', 'Late_delivery_risk', 'Sales per customer']]\n",
        "y = (df_selected['Sales per customer'] < df_selected['Benefit per order']).astype(int)  # Example: Treat stockout as sales being lower than profit\n",
        "\n",
        "# Train-test split\n",
        "X_train, X_test, y_train, y_test = train_test_split(X, y, test_size=0.2, random_state=42)\n",
        "\n",
        "# Train Random Forest\n",
        "rf = RandomForestClassifier(random_state=42)\n",
        "rf.fit(X_train, y_train)\n",
        "\n",
        "# Test and evaluate the model\n",
        "y_pred = rf.predict(X_test)\n",
        "accuracy = accuracy_score(y_test, y_pred)\n",
        "print(f'Random Forest Accuracy: {accuracy}')\n"
      ]
    },
    {
      "cell_type": "markdown",
      "id": "f55ed34d-d29d-4649-9d1e-91c658c172fc",
      "metadata": {
        "id": "f55ed34d-d29d-4649-9d1e-91c658c172fc"
      },
      "source": [
        "### This Random Forest model predicts stockout likelihood based on shipping days, delivery risk, and sales per customer, achieving an accuracy of 80%. This helps identify factors contributing to stockouts"
      ]
    },
    {
      "cell_type": "markdown",
      "id": "f0845da9-6b58-43f5-b874-fd1584125d12",
      "metadata": {
        "id": "f0845da9-6b58-43f5-b874-fd1584125d12"
      },
      "source": [
        "### Conclusion"
      ]
    },
    {
      "cell_type": "markdown",
      "id": "257f6446-6ecf-4c05-b2a7-101787ba6556",
      "metadata": {
        "id": "257f6446-6ecf-4c05-b2a7-101787ba6556"
      },
      "source": [
        "Our analysis integrates clustering, reinforcement learning, and predictive modeling to enhance stockout mitigation strategies. Clustering with K-Means (3 clusters) reveals patterns between sales per customer and shipping days, highlighting high-risk groups. The Deep Q-Network (DQN) achieved a test total reward of 103,036, learning optimal restocking actions under dynamic conditions. Additionally, the Random Forest model, with an accuracy of 80%, predicts stockout risks by analyzing shipping days, sales, and delivery risk. These insights provide actionable steps to reduce stockouts, align inventory with demand, and improve profitability in inventory management.\n"
      ]
    },
    {
      "cell_type": "code",
      "execution_count": null,
      "id": "b58603a7-afa8-4eae-aa53-dd6e56703982",
      "metadata": {
        "id": "b58603a7-afa8-4eae-aa53-dd6e56703982"
      },
      "outputs": [],
      "source": []
    }
  ],
  "metadata": {
    "kernelspec": {
      "display_name": "Python 3 (ipykernel)",
      "language": "python",
      "name": "python3"
    },
    "language_info": {
      "codemirror_mode": {
        "name": "ipython",
        "version": 3
      },
      "file_extension": ".py",
      "mimetype": "text/x-python",
      "name": "python",
      "nbconvert_exporter": "python",
      "pygments_lexer": "ipython3",
      "version": "3.12.1"
    },
    "colab": {
      "provenance": [],
      "include_colab_link": true
    }
  },
  "nbformat": 4,
  "nbformat_minor": 5
}