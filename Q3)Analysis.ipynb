{
 "cells": [
  {
   "cell_type": "code",
   "execution_count": 31,
   "metadata": {},
   "outputs": [],
   "source": [
    "from common_imports import*"
   ]
  },
  {
   "cell_type": "code",
   "execution_count": 32,
   "metadata": {},
   "outputs": [],
   "source": [
    "data = '/Applications/Kaushik/North Texas/Education/Semester 5, Fall 2024/Project/Fresh start/CSV/q2_with_benefit.csv'\n",
    "df = pd.read_csv(data)"
   ]
  },
  {
   "cell_type": "code",
   "execution_count": 33,
   "metadata": {},
   "outputs": [],
   "source": [
    "# Subtract 'Column2' from 'Column1' and store the result in a new column 'Result'\n",
    "df['diff_delivery'] = df['Days for shipping (real)'] - df['Days for shipment (scheduled)']"
   ]
  },
  {
   "cell_type": "code",
   "execution_count": 34,
   "metadata": {},
   "outputs": [
    {
     "name": "stdout",
     "output_type": "stream",
     "text": [
      "   Days for shipping (real)  Days for shipment (scheduled)  Benefit per order  \\\n",
      "0                         3                              4          91.250000   \n",
      "1                         5                              4        -249.089996   \n",
      "2                         4                              4        -247.779999   \n",
      "3                         3                              4          22.860001   \n",
      "4                         2                              4         134.210007   \n",
      "\n",
      "  Department Name        Market  diff_delivery  \n",
      "0         Fitness  Pacific Asia             -1  \n",
      "1         Fitness  Pacific Asia              1  \n",
      "2         Fitness  Pacific Asia              0  \n",
      "3         Fitness  Pacific Asia             -1  \n",
      "4         Fitness  Pacific Asia             -2  \n"
     ]
    }
   ],
   "source": [
    "print(df.head())"
   ]
  },
  {
   "cell_type": "code",
   "execution_count": 35,
   "metadata": {},
   "outputs": [
    {
     "name": "stdout",
     "output_type": "stream",
     "text": [
      "   Days for shipping (real)  Days for shipment (scheduled)  Benefit per order  \\\n",
      "0                         3                              4          91.250000   \n",
      "1                         5                              4        -249.089996   \n",
      "2                         4                              4        -247.779999   \n",
      "3                         3                              4          22.860001   \n",
      "4                         2                              4         134.210007   \n",
      "\n",
      "  Department Name        Market  diff_delivery late_delivery  \n",
      "0         Fitness  Pacific Asia             -1       On Time  \n",
      "1         Fitness  Pacific Asia              1          Late  \n",
      "2         Fitness  Pacific Asia              0          Late  \n",
      "3         Fitness  Pacific Asia             -1       On Time  \n",
      "4         Fitness  Pacific Asia             -2       On Time  \n"
     ]
    }
   ],
   "source": [
    "# Create a new column with if-else logic\n",
    "df['late_delivery'] = np.where(df['diff_delivery'] < 0, 'On Time', 'Late')\n",
    "\n",
    "print(df.head())"
   ]
  },
  {
   "cell_type": "code",
   "execution_count": 36,
   "metadata": {},
   "outputs": [
    {
     "name": "stdout",
     "output_type": "stream",
     "text": [
      "   Benefit per order Department Name        Market  diff_delivery  \\\n",
      "0          91.250000         Fitness  Pacific Asia             -1   \n",
      "1        -249.089996         Fitness  Pacific Asia              1   \n",
      "2        -247.779999         Fitness  Pacific Asia              0   \n",
      "3          22.860001         Fitness  Pacific Asia             -1   \n",
      "4         134.210007         Fitness  Pacific Asia             -2   \n",
      "\n",
      "  late_delivery  \n",
      "0       On Time  \n",
      "1          Late  \n",
      "2          Late  \n",
      "3       On Time  \n",
      "4       On Time  \n"
     ]
    }
   ],
   "source": [
    "df_copy = df.drop(['Days for shipping (real)','Days for shipment (scheduled)'],axis = 1)\n",
    "\n",
    "print(df_copy.head())"
   ]
  },
  {
   "cell_type": "code",
   "execution_count": 37,
   "metadata": {},
   "outputs": [],
   "source": [
    "df_copy = df_copy.drop('diff_delivery', axis = 1)"
   ]
  },
  {
   "cell_type": "code",
   "execution_count": 38,
   "metadata": {},
   "outputs": [
    {
     "name": "stdout",
     "output_type": "stream",
     "text": [
      "   Benefit per order Department Name        Market late_delivery\n",
      "0          91.250000         Fitness  Pacific Asia       On Time\n",
      "1        -249.089996         Fitness  Pacific Asia          Late\n",
      "2        -247.779999         Fitness  Pacific Asia          Late\n",
      "3          22.860001         Fitness  Pacific Asia       On Time\n",
      "4         134.210007         Fitness  Pacific Asia       On Time\n"
     ]
    }
   ],
   "source": [
    "print(df_copy.head())"
   ]
  },
  {
   "cell_type": "code",
   "execution_count": 40,
   "metadata": {},
   "outputs": [
    {
     "name": "stdout",
     "output_type": "stream",
     "text": [
      "       Department Name        Market  total_orders  late_orders  \\\n",
      "35            Pet Shop  Pacific Asia           492          397   \n",
      "30            Outdoors        Africa           632          496   \n",
      "17             Fitness  Pacific Asia           780          608   \n",
      "5            Book Shop        Europe           308          238   \n",
      "28                Golf          USCA          5082         3917   \n",
      "0              Apparel        Africa          3162         2434   \n",
      "7           Discs Shop        Europe           348          267   \n",
      "29  Health and Beauty   Pacific Asia           362          277   \n",
      "4              Apparel          USCA          7111         5440   \n",
      "22            Footwear  Pacific Asia          3021         2308   \n",
      "3              Apparel  Pacific Asia         11103         8480   \n",
      "10            Fan Shop        Europe         18265        13945   \n",
      "24                Golf        Africa          2219         1694   \n",
      "19            Footwear        Africa           985          751   \n",
      "36          Technology        Europe          1210          922   \n",
      "1              Apparel        Europe         13778        10496   \n",
      "13            Fan Shop          USCA          9847         7488   \n",
      "33            Outdoors  Pacific Asia          2430         1844   \n",
      "21            Footwear         LATAM          4323         3280   \n",
      "11            Fan Shop         LATAM         20009        15181   \n",
      "27                Golf  Pacific Asia          6776         5137   \n",
      "12            Fan Shop  Pacific Asia         14266        10811   \n",
      "26                Golf         LATAM          9963         7544   \n",
      "20            Footwear        Europe          4098         3102   \n",
      "2              Apparel         LATAM         13844        10475   \n",
      "8           Discs Shop  Pacific Asia          1678         1269   \n",
      "9             Fan Shop        Africa          4474         3382   \n",
      "34            Outdoors          USCA          1343         1015   \n",
      "16             Fitness         LATAM           641          484   \n",
      "25                Golf        Europe          9180         6913   \n",
      "6            Book Shop  Pacific Asia            97           73   \n",
      "31            Outdoors        Europe          2467         1850   \n",
      "23            Footwear          USCA          2098         1571   \n",
      "15             Fitness        Europe           598          446   \n",
      "18             Fitness          USCA           318          237   \n",
      "32            Outdoors         LATAM          2814         2091   \n",
      "37          Technology  Pacific Asia           255          187   \n",
      "14             Fitness        Africa           142          103   \n",
      "\n",
      "    on_time_orders  late_percentage  \n",
      "35              95        80.691057  \n",
      "30             136        78.481013  \n",
      "17             172        77.948718  \n",
      "5               70        77.272727  \n",
      "28            1165        77.075954  \n",
      "0              728        76.976597  \n",
      "7               81        76.724138  \n",
      "29              85        76.519337  \n",
      "4             1671        76.501195  \n",
      "22             713        76.398544  \n",
      "3             2623        76.375754  \n",
      "10            4320        76.348207  \n",
      "24             525        76.340694  \n",
      "19             234        76.243655  \n",
      "36             288        76.198347  \n",
      "1             3282        76.179416  \n",
      "13            2359        76.043465  \n",
      "33             586        75.884774  \n",
      "21            1043        75.873236  \n",
      "11            4828        75.870858  \n",
      "27            1639        75.811688  \n",
      "12            3455        75.781579  \n",
      "26            2419        75.720165  \n",
      "20             996        75.695461  \n",
      "2             3369        75.664548  \n",
      "8              409        75.625745  \n",
      "9             1092        75.592311  \n",
      "34             328        75.577066  \n",
      "16             157        75.507020  \n",
      "25            2267        75.305011  \n",
      "6               24        75.257732  \n",
      "31             617        74.989866  \n",
      "23             527        74.880839  \n",
      "15             152        74.581940  \n",
      "18              81        74.528302  \n",
      "32             723        74.307036  \n",
      "37              68        73.333333  \n",
      "14              39        72.535211  \n"
     ]
    }
   ],
   "source": [
    "# Assuming your dataset is loaded into a variable named 'data'\n",
    "\n",
    "# Group by 'Category Name' and 'Customer City' to calculate late delivery stats\n",
    "late_delivery_analysis = df_copy.groupby(['Department Name', 'Market']).agg(\n",
    "    total_orders=('late_delivery', 'count'),\n",
    "    late_orders=('late_delivery', lambda x: (x == 'Late').sum()),\n",
    "    on_time_orders=('late_delivery', lambda x: (x == 'On Time').sum())\n",
    ").reset_index()\n",
    "\n",
    "# Calculate the proportion of late deliveries\n",
    "late_delivery_analysis['late_percentage'] = (\n",
    "    late_delivery_analysis['late_orders'] / late_delivery_analysis['total_orders'] * 100\n",
    ")\n",
    "\n",
    "# Sort by the highest late delivery percentage\n",
    "late_delivery_analysis = late_delivery_analysis.sort_values(by='late_percentage', ascending=False)\n",
    "\n",
    "# Display the results\n",
    "print(late_delivery_analysis)"
   ]
  },
  {
   "cell_type": "code",
   "execution_count": 41,
   "metadata": {},
   "outputs": [
    {
     "name": "stdout",
     "output_type": "stream",
     "text": [
      "   Department Name        Market  total_orders  late_orders  on_time_orders  \\\n",
      "35        Pet Shop  Pacific Asia           492          397              95   \n",
      "30        Outdoors        Africa           632          496             136   \n",
      "17         Fitness  Pacific Asia           780          608             172   \n",
      "5        Book Shop        Europe           308          238              70   \n",
      "28            Golf          USCA          5082         3917            1165   \n",
      "\n",
      "    late_percentage  \n",
      "35        80.691057  \n",
      "30        78.481013  \n",
      "17        77.948718  \n",
      "5         77.272727  \n",
      "28        77.075954  \n"
     ]
    }
   ],
   "source": [
    "print(late_delivery_analysis.head())"
   ]
  },
  {
   "cell_type": "code",
   "execution_count": 39,
   "metadata": {},
   "outputs": [
    {
     "name": "stdout",
     "output_type": "stream",
     "text": [
      "Accuracy: 0.6746620873033459\n",
      "\n",
      "Classification Report:\n",
      "               precision    recall  f1-score   support\n",
      "\n",
      "           0       0.24      0.17      0.20     12921\n",
      "           1       0.76      0.83      0.80     41235\n",
      "\n",
      "    accuracy                           0.67     54156\n",
      "   macro avg       0.50      0.50      0.50     54156\n",
      "weighted avg       0.64      0.67      0.65     54156\n",
      "\n"
     ]
    }
   ],
   "source": [
    "from sklearn.model_selection import train_test_split\n",
    "from sklearn.ensemble import RandomForestClassifier\n",
    "from sklearn.metrics import classification_report, accuracy_score\n",
    "\n",
    "# Encode categorical variables\n",
    "df_encoded = pd.get_dummies(df_copy, columns=['Department Name', 'Market'], drop_first=True)\n",
    "\n",
    "# Define features and target\n",
    "X = df_encoded.drop(['late_delivery'], axis=1)\n",
    "y = df_copy['late_delivery'].apply(lambda x: 1 if x == 'Late' else 0)  # Binary target encoding\n",
    "\n",
    "# Split into training and testing datasets\n",
    "X_train, X_test, y_train, y_test = train_test_split(X, y, test_size=0.3, random_state=42)\n",
    "\n",
    "# Train a Random Forest Classifier\n",
    "model = RandomForestClassifier(random_state=42)\n",
    "model.fit(X_train, y_train)\n",
    "\n",
    "# Predict and evaluate\n",
    "y_pred = model.predict(X_test)\n",
    "print(\"Accuracy:\", accuracy_score(y_test, y_pred))\n",
    "print(\"\\nClassification Report:\\n\", classification_report(y_test, y_pred))\n",
    "\n",
    "# Add predictions to the dataset\n",
    "df_copy['predicted_delivery'] = model.predict(df_encoded.drop(['late_delivery'], axis=1))\n",
    "df_copy['predicted_delivery'] = df_copy['predicted_delivery'].apply(lambda x: 'Late' if x == 1 else 'On Time')\n",
    "\n",
    "# Save the updated dataset\n",
    "df_copy.to_csv('shipment_with_predictions.csv', index=False)"
   ]
  },
  {
   "cell_type": "code",
   "execution_count": 52,
   "metadata": {},
   "outputs": [
    {
     "name": "stdout",
     "output_type": "stream",
     "text": [
      "Regression Equation: logit(p) = 1.1380698378191085 + (-0.0000 * Benefit per order) + (0.0124 * Department Name_Book Shop) + (-0.0059 * Department Name_Discs Shop) + (0.0001 * Department Name_Fan Shop) + (-0.0011 * Department Name_Fitness) + (-0.0205 * Department Name_Footwear) + (-0.0178 * Department Name_Golf) + (0.0079 * Department Name_Health and Beauty ) + (-0.0730 * Department Name_Outdoors) + (0.0644 * Department Name_Pet Shop) + (-0.0016 * Department Name_Technology) + (0.0218 * Market_Europe) + (0.0141 * Market_LATAM) + (0.0257 * Market_Pacific Asia) + (0.0599 * Market_USCA)\n"
     ]
    },
    {
     "name": "stderr",
     "output_type": "stream",
     "text": [
      "/Library/Frameworks/Python.framework/Versions/3.12/lib/python3.12/site-packages/sklearn/linear_model/_logistic.py:469: ConvergenceWarning: lbfgs failed to converge (status=1):\n",
      "STOP: TOTAL NO. of ITERATIONS REACHED LIMIT.\n",
      "\n",
      "Increase the number of iterations (max_iter) or scale the data as shown in:\n",
      "    https://scikit-learn.org/stable/modules/preprocessing.html\n",
      "Please also refer to the documentation for alternative solver options:\n",
      "    https://scikit-learn.org/stable/modules/linear_model.html#logistic-regression\n",
      "  n_iter_i = _check_optimize_result(\n"
     ]
    }
   ],
   "source": [
    "from sklearn.linear_model import LogisticRegression\n",
    "\n",
    "# Train the Logistic Regression model\n",
    "model = LogisticRegression()\n",
    "model.fit(X, y)\n",
    "\n",
    "# Get the coefficients (weights) and intercept\n",
    "coefficients = model.coef_[0]\n",
    "intercept = model.intercept_[0]\n",
    "\n",
    "# Create the regression equation\n",
    "equation = \"logit(p) = \" + str(intercept)\n",
    "for feature, coef in zip(X.columns, coefficients):\n",
    "    equation += f\" + ({coef:.4f} * {feature})\"\n",
    "\n",
    "print(f\"Regression Equation: {equation}\")\n"
   ]
  },
  {
   "cell_type": "code",
   "execution_count": 51,
   "metadata": {},
   "outputs": [
    {
     "name": "stdout",
     "output_type": "stream",
     "text": [
      "Best Parameters: {'max_depth': 30, 'min_samples_leaf': 1, 'min_samples_split': 2, 'n_estimators': 200}\n"
     ]
    }
   ],
   "source": [
    "from sklearn.model_selection import GridSearchCV\n",
    "\n",
    "# Define the parameter grid\n",
    "param_grid = {\n",
    "    'n_estimators': [50, 100, 200],\n",
    "    'max_depth': [10, 20, 30],\n",
    "    'min_samples_split': [2, 5, 10],\n",
    "    'min_samples_leaf': [1, 2, 4]\n",
    "}\n",
    "\n",
    "# Grid search\n",
    "grid_search = GridSearchCV(RandomForestClassifier(random_state=42), param_grid, cv=3, scoring='f1_weighted')\n",
    "grid_search.fit(X_train, y_train)\n",
    "\n",
    "# Best parameters\n",
    "print(\"Best Parameters:\", grid_search.best_params_)"
   ]
  },
  {
   "cell_type": "code",
   "execution_count": 53,
   "metadata": {},
   "outputs": [
    {
     "name": "stdout",
     "output_type": "stream",
     "text": [
      "Accuracy: 0.6517279930005346\n",
      "\n",
      "Classification Report:\n",
      "               precision    recall  f1-score   support\n",
      "\n",
      "           0       0.66      0.62      0.64     41229\n",
      "           1       0.64      0.68      0.66     41063\n",
      "\n",
      "    accuracy                           0.65     82292\n",
      "   macro avg       0.65      0.65      0.65     82292\n",
      "weighted avg       0.65      0.65      0.65     82292\n",
      "\n"
     ]
    }
   ],
   "source": [
    "from imblearn.over_sampling import SMOTE\n",
    "from sklearn.ensemble import RandomForestClassifier\n",
    "from sklearn.model_selection import train_test_split\n",
    "from sklearn.metrics import classification_report, accuracy_score\n",
    "\n",
    "# Oversample using SMOTE\n",
    "smote = SMOTE(random_state=42)\n",
    "X_resampled, y_resampled = smote.fit_resample(X, y)\n",
    "\n",
    "# Split into training and testing sets\n",
    "X_train, X_test, y_train, y_test = train_test_split(X_resampled, y_resampled, test_size=0.3, random_state=42)\n",
    "\n",
    "# Train Random Forest Classifier\n",
    "model = RandomForestClassifier(random_state=42)\n",
    "model.fit(X_train, y_train)\n",
    "\n",
    "# Predict and evaluate\n",
    "y_pred = model.predict(X_test)\n",
    "print(\"Accuracy:\", accuracy_score(y_test, y_pred))\n",
    "print(\"\\nClassification Report:\\n\", classification_report(y_test, y_pred))"
   ]
  },
  {
   "cell_type": "code",
   "execution_count": 47,
   "metadata": {},
   "outputs": [
    {
     "name": "stdout",
     "output_type": "stream",
     "text": [
      "   Benefit per order Department Name        Market late_delivery  \\\n",
      "0          91.250000         Fitness  Pacific Asia       On Time   \n",
      "1        -249.089996         Fitness  Pacific Asia          Late   \n",
      "2        -247.779999         Fitness  Pacific Asia          Late   \n",
      "3          22.860001         Fitness  Pacific Asia       On Time   \n",
      "4         134.210007         Fitness  Pacific Asia       On Time   \n",
      "\n",
      "  predicted_delivery  \n",
      "0               Late  \n",
      "1               Late  \n",
      "2               Late  \n",
      "3            On Time  \n",
      "4               Late  \n"
     ]
    }
   ],
   "source": [
    "print(df_copy.head())"
   ]
  }
 ],
 "metadata": {
  "kernelspec": {
   "display_name": "Python 3",
   "language": "python",
   "name": "python3"
  },
  "language_info": {
   "codemirror_mode": {
    "name": "ipython",
    "version": 3
   },
   "file_extension": ".py",
   "mimetype": "text/x-python",
   "name": "python",
   "nbconvert_exporter": "python",
   "pygments_lexer": "ipython3",
   "version": "3.12.6"
  }
 },
 "nbformat": 4,
 "nbformat_minor": 2
}
